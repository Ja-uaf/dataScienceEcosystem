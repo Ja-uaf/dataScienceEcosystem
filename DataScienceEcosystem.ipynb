{
 "cells": [
  {
   "cell_type": "markdown",
   "id": "4c46023f-0df7-4d2f-a404-2b21cd913853",
   "metadata": {},
   "source": [
    "# Data Science Tools and Ecosystem"
   ]
  },
  {
   "cell_type": "markdown",
   "id": "9288c55a-eb49-449b-84b8-82f92adc2a48",
   "metadata": {},
   "source": [
    "In this notebook, Data Science Tools and Ecosystem are summarized."
   ]
  },
  {
   "cell_type": "markdown",
   "id": "9db62941-d489-4068-8975-23c907670bcd",
   "metadata": {},
   "source": [
    "Some of the popular languages that Data Scientists use are:\n",
    "1. Python  \n",
    "2. R  \n",
    "3. SQL "
   ]
  },
  {
   "cell_type": "markdown",
   "id": "5204cfee-ba9b-45cb-845e-54c7350b7b11",
   "metadata": {},
   "source": [
    "Some of the commonly used libraries used by Data Scientists include:\n",
    "1. Pandas  \n",
    "2. NumPy  \n",
    "3. Matplotlib  \n",
    "4. Scikit-learn"
   ]
  },
  {
   "cell_type": "markdown",
   "id": "3f3cc8a8-b0ba-44ef-ac29-5139f69ecc17",
   "metadata": {},
   "source": [
    "| Data Science Tools |\n",
    "|-------------------|\n",
    "| jupyternotebook   |\n",
    "| R studio          |\n",
    "| pycharm           |\n",
    "| Hadoop            |"
   ]
  },
  {
   "cell_type": "markdown",
   "id": "5c238762-8b18-4f8f-b5eb-454936c2a5c8",
   "metadata": {},
   "source": [
    "### Below are a few examples of evaluating arithmetic expressions in Python."
   ]
  },
  {
   "cell_type": "code",
   "execution_count": 9,
   "id": "53fe5ac4-af47-4cee-aee4-7f8f8b9d909e",
   "metadata": {},
   "outputs": [
    {
     "data": {
      "text/plain": [
       "17"
      ]
     },
     "execution_count": 9,
     "metadata": {},
     "output_type": "execute_result"
    }
   ],
   "source": [
    "# This a simple arithmetic expression to multiply then add integers\n",
    "(3 * 4) + 5"
   ]
  },
  {
   "cell_type": "code",
   "execution_count": 11,
   "id": "a4308115-3bc7-42da-9af0-c0edeeef5f11",
   "metadata": {},
   "outputs": [
    {
     "data": {
      "text/plain": [
       "3.3333333333333335"
      ]
     },
     "execution_count": 11,
     "metadata": {},
     "output_type": "execute_result"
    }
   ],
   "source": [
    "# This will convert 200 minutes to hours by diving by 60\n",
    "200 / 60"
   ]
  },
  {
   "cell_type": "markdown",
   "id": "04aa8ea8-5fee-4152-bbdb-ee7b415e0b74",
   "metadata": {},
   "source": [
    "\"Objectives:\"\n",
    "\n",
    "- List popular languages for Data Science  \n",
    "- List commonly used libraries in Data Science  \n",
    "- Introduce tools used in Data Science  \n",
    "- Demonstrate basic arithmetic operations in Python  \n",
    "- Convert units using Python code  "
   ]
  },
  {
   "cell_type": "markdown",
   "id": "dbec6495-26ba-427b-8a12-b5ca62a07d44",
   "metadata": {},
   "source": [
    "## Author\n",
    "Jahangir Anwar"
   ]
  },
  {
   "cell_type": "code",
   "execution_count": null,
   "id": "4635457a-d04c-4ee4-ae55-e19c19ed732e",
   "metadata": {},
   "outputs": [],
   "source": []
  }
 ],
 "metadata": {
  "kernelspec": {
   "display_name": "Python 3 (ipykernel)",
   "language": "python",
   "name": "python3"
  },
  "language_info": {
   "codemirror_mode": {
    "name": "ipython",
    "version": 3
   },
   "file_extension": ".py",
   "mimetype": "text/x-python",
   "name": "python",
   "nbconvert_exporter": "python",
   "pygments_lexer": "ipython3",
   "version": "3.12.4"
  }
 },
 "nbformat": 4,
 "nbformat_minor": 5
}
